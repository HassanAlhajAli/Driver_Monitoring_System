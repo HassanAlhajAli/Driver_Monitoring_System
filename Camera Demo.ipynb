{
 "cells": [
  {
   "cell_type": "markdown",
   "source": [
    "## Camera and image demo to test the DMS model v2. "
   ],
   "metadata": {
    "collapsed": false
   },
   "id": "7a0e4c65a4b89f2b"
  },
  {
   "cell_type": "code",
   "execution_count": null,
   "outputs": [],
   "source": [
    "from ultralytics import YOLO\n",
    "\n",
    "model = YOLO('yolov8n.pt')\n",
    "model.info()  # display model information"
   ],
   "metadata": {
    "collapsed": false
   },
   "id": "b1ee005e"
  },
  {
   "cell_type": "code",
   "execution_count": null,
   "id": "828c4218",
   "metadata": {},
   "outputs": [],
   "source": [
    "# Get the list of object names\n",
    "object_names = model.names\n",
    "\n",
    "# Print the list of object names\n",
    "print(object_names)"
   ]
  },
  {
   "cell_type": "code",
   "execution_count": null,
   "id": "fae7ee6a",
   "metadata": {},
   "outputs": [],
   "source": [
    "import cv2\n",
    "from ultralytics import YOLO\n",
    "\n",
    "# Load Custom YOLOv8 Model\n",
    "# model = YOLO('C:/Users/habba/Downloads/train19-eyes.zip/weights/best.pt')\n",
    "model = YOLO('C:/Users/habba/PycharmProjects/DMS/runs/detect/train12/weights/best.pt')\n",
    "model = YOLO('C:/Users/habba/Downloads/train21-eyes-face22.zip/weights/best.pt')\n",
    "\n",
    "print(model.names)\n",
    "\n",
    "# Open the video file\n",
    "cap = cv2.VideoCapture(1)\n",
    "\n",
    "# model.predict(source=1, task='detect', save=True, show=True)\n",
    "\n",
    "# Loop through the video frames\n",
    "while True:\n",
    "    # Read a frame from the video\n",
    "    success, frame = cap.read()\n",
    "\n",
    "    if success:\n",
    "        # Run YOLOv8 inference on the frame\n",
    "        results = model(frame)\n",
    "\n",
    "        # Visualize the results on the frame\n",
    "        annotated_frame = results[0].plot()\n",
    "        annotated_frame = cv2.resize(annotated_frame, (960, 540))\n",
    "        # cv2.imwrite('C:/Users/habba/DMS/Untitled Folder 1/11111.jpg', annotated_frame)\n",
    "        # Display the annotated frame\n",
    "        cv2.imshow(\"YOLOv8 Inference\", annotated_frame)\n",
    "\n",
    "        # Break the loop if 'q' is pressed\n",
    "        if cv2.waitKey(1) & 0xFF == ord(\"q\"):\n",
    "            break\n",
    "    else:\n",
    "        # Break the loop if the end of the video is reached\n",
    "        break\n",
    "\n",
    "# Release the video capture object and close the display window\n",
    "cap.release()\n",
    "cv2.destroyAllWindows()"
   ]
  },
  {
   "cell_type": "code",
   "execution_count": null,
   "id": "93cd3d16",
   "metadata": {},
   "outputs": [],
   "source": [
    "import cv2\n",
    "from PIL import Image\n",
    "from ultralytics import YOLO\n",
    "from matplotlib import pyplot as plt\n",
    "\n",
    "# model = YOLO('best.pt')\n",
    "# model = YOLO('yolov8n.pt')\n",
    "\n",
    "# model = YOLO('C:/Users/habba/PycharmProjects/DMS/runs/detect/train6/weights/best.pt')\n",
    "model = YOLO('C:/Users/habba/PycharmProjects/DMS/runs/detect/train12/weights/best.pt')\n",
    "model = YOLO('C:/Users/habba/DMS/Datasets/Seperate Datasets/Eyes model.pt')\n",
    "model = YOLO('C:/Users/habba/DMS/Datasets/Seperate Datasets/best EYES.pt')\n",
    "model = YOLO('C:/Users/habba/DMS/Datasets/Seperate Datasets/best-eyes-face.pt')\n",
    "model = YOLO('C:/Users/habba/Downloads/train21-eyes-face22.zip/weights/best.pt')\n",
    "\n",
    "# load the input image\n",
    "img = cv2.imread('IMG_20230226_210305.jpg')\n",
    "\n",
    "# rotate the image by 180 degree clockwise\n",
    "img_cw_180 = cv2.rotate(img, cv2.ROTATE_90_CLOCKWISE)\n",
    "\n",
    "# Run inference on 'bus.jpg'\n",
    "results = model(img)  # results list\n",
    "\n",
    "# Visualize the results on the frame\n",
    "annotated_frame = results[0].plot()\n",
    "\n",
    "#Show the image with matplotlib\n",
    "plt.imshow(annotated_frame)\n",
    "plt.show()\n",
    "\n",
    "# View results\n",
    "for r in results:\n",
    "    print(r.boxes.data)  # print the Boxes object containing the detection bounding boxes\n",
    "\n",
    "# Show the results\n",
    "for r in results:\n",
    "    im_array = r.plot()  # plot a BGR numpy array of predictions\n",
    "    im = Image.fromarray(im_array[..., ::-1])  # RGB PIL image\n",
    "    im.show()  # show image\n",
    "    im.save('results.jpg')  # save image\n"
   ]
  },
  {
   "cell_type": "code",
   "execution_count": null,
   "outputs": [],
   "source": [
    "from ultralytics import YOLO\n",
    "\n",
    "model = YOLO('C:/Users/habba/DMS/Datasets/Seperate Datasets/Eyes model.pt')\n",
    "model.predict(source='C:/Users/habba/DMS/Datasets/Seperate Datasets\\O D 2/D4 -/valid/images', save=True, conf=0.3,\n",
    "              save_txt=True)"
   ],
   "metadata": {
    "collapsed": false
   },
   "id": "6cd6404988a41c9e"
  },
  {
   "cell_type": "code",
   "execution_count": null,
   "outputs": [],
   "source": [
    "!yolo predict model='C:/Users/habba/PycharmProjects/DMS/runs/detect/train2/weights/best.pt' source=C:\\Users\\habba\\s iou=0.0 show=True save_crop=True vid_stride=True visualize=True augment=True save_txt=True"
   ],
   "metadata": {
    "collapsed": false
   },
   "id": "e162a44c08f04e7b"
  }
 ],
 "metadata": {
  "kernelspec": {
   "display_name": "Python 3 (ipykernel)",
   "language": "python",
   "name": "python3"
  },
  "language_info": {
   "codemirror_mode": {
    "name": "ipython",
    "version": 3
   },
   "file_extension": ".py",
   "mimetype": "text/x-python",
   "name": "python",
   "nbconvert_exporter": "python",
   "pygments_lexer": "ipython3",
   "version": "3.11.4"
  }
 },
 "nbformat": 4,
 "nbformat_minor": 5
}
