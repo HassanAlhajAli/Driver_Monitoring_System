{
 "cells": [
  {
   "cell_type": "code",
   "execution_count": null,
   "outputs": [],
   "source": [
    "from ultralytics import YOLO"
   ],
   "metadata": {
    "collapsed": false
   },
   "id": "d4b50bb9"
  },
  {
   "cell_type": "markdown",
   "source": [
    "## Training a model on the eyes dataset."
   ],
   "metadata": {
    "collapsed": false
   },
   "id": "2f6d2acabaff55f3"
  },
  {
   "cell_type": "code",
   "execution_count": null,
   "outputs": [],
   "source": [
    "# Load a model\n",
    "model = YOLO('yolov8n.pt')\n",
    "\n",
    "results = model.train(data='/kaggle/input/3 - (Open Eye - Closed Eye)/data.yaml', epochs=1000)"
   ],
   "metadata": {
    "collapsed": false,
    "is_executing": true
   },
   "id": "ebff25cbe50e1c93"
  },
  {
   "cell_type": "markdown",
   "source": [
    "## Testing the model on the validation and testing sets."
   ],
   "metadata": {
    "collapsed": false
   },
   "id": "82472c01d31bcc9"
  },
  {
   "cell_type": "code",
   "execution_count": null,
   "outputs": [],
   "source": [
    "!yolo val model=models/eyes.pt data=C:/kaggle/input/Eyes_dataset/data.yaml split=val"
   ],
   "metadata": {
    "collapsed": false
   },
   "id": "3e7d2e9b984dcd80"
  },
  {
   "cell_type": "code",
   "execution_count": null,
   "outputs": [],
   "source": [
    "!yolo val model=models/eyes.pt data=C:/kaggle/input/Eyes_dataset/data.yaml split=test"
   ],
   "metadata": {
    "collapsed": false
   },
   "id": "c8b1e4e00f8647e8"
  },
  {
   "cell_type": "markdown",
   "source": [],
   "metadata": {
    "collapsed": false
   },
   "id": "38834ad600ffcdd9"
  },
  {
   "cell_type": "markdown",
   "source": [
    "## Training a model on the final dataset."
   ],
   "metadata": {
    "collapsed": false
   },
   "id": "e9e9ab8c8b271960"
  },
  {
   "cell_type": "code",
   "execution_count": null,
   "outputs": [],
   "source": [
    "# Load a model\n",
    "model = YOLO('runs/detect/train/weights/best.pt')  # load a pretrained model (recommended for training)\n",
    "\n",
    "results = model.train(data='/kaggle/input/final/data.yaml', epochs=1000, patience=100)"
   ],
   "metadata": {
    "collapsed": false
   },
   "id": "65b2521b"
  },
  {
   "cell_type": "markdown",
   "source": [
    "## Resume the training in case something went wrong"
   ],
   "metadata": {
    "collapsed": false
   },
   "id": "1660e801bb5972ca"
  },
  {
   "cell_type": "code",
   "execution_count": null,
   "id": "ec5b430a",
   "metadata": {
    "scrolled": false
   },
   "outputs": [],
   "source": [
    "# Load a model\n",
    "model = YOLO('runs/detect/train5/weights/last.pt')\n",
    "\n",
    "# Resume training\n",
    "results = model.train(resume=True)"
   ]
  },
  {
   "cell_type": "markdown",
   "source": [
    "## Testing the model on the validation and testing sets."
   ],
   "metadata": {
    "collapsed": false
   },
   "id": "b910b82f35f5638e"
  },
  {
   "cell_type": "code",
   "execution_count": null,
   "outputs": [],
   "source": [
    "!yolo val model=models/dms_v2.pt data=C:/kaggle/input/final/data.yaml split=val"
   ],
   "metadata": {
    "collapsed": false
   },
   "id": "fa32ed24fd35bcde"
  },
  {
   "cell_type": "code",
   "execution_count": null,
   "outputs": [],
   "source": [
    "!yolo val model=models/dms_v2.pt data=C:/kaggle/input/final/data.yaml split=test"
   ],
   "metadata": {
    "collapsed": false
   },
   "id": "ce2ccacc497644a"
  },
  {
   "cell_type": "markdown",
   "source": [
    "## Exporting the model as `torchscript` to use with the Flutter app."
   ],
   "metadata": {
    "collapsed": false
   },
   "id": "65265ffcf639b8ab"
  },
  {
   "cell_type": "code",
   "execution_count": null,
   "outputs": [],
   "source": [
    "!yolo mode=export model=runs/detect/train5/weights/best.pt format=torchscript optimize"
   ],
   "metadata": {
    "collapsed": false
   },
   "id": "3bcceb4634322285"
  }
 ],
 "metadata": {
  "kernelspec": {
   "display_name": "Python 3 (ipykernel)",
   "language": "python",
   "name": "python3"
  },
  "language_info": {
   "codemirror_mode": {
    "name": "ipython",
    "version": 3
   },
   "file_extension": ".py",
   "mimetype": "text/x-python",
   "name": "python",
   "nbconvert_exporter": "python",
   "pygments_lexer": "ipython3",
   "version": "3.11.4"
  }
 },
 "nbformat": 4,
 "nbformat_minor": 5
}
