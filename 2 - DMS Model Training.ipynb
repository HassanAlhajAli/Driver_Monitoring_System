{
 "cells": [
  {
   "cell_type": "code",
   "execution_count": null,
   "outputs": [],
   "source": [
    "from ultralytics import YOLO"
   ],
   "metadata": {
    "collapsed": false
   },
   "id": "d4b50bb9"
  },
  {
   "cell_type": "markdown",
   "source": [
    "## Training a model on the eyes dataset."
   ],
   "metadata": {
    "collapsed": false
   },
   "id": "2f6d2acabaff55f3"
  },
  {
   "cell_type": "code",
   "execution_count": null,
   "outputs": [],
   "source": [
    "# Load a model\n",
    "model = YOLO('yolov8n')\n",
    "\n",
    "results = model.train(data='/kaggle/input/3 - (Open Eye - Closed Eye)/data.yaml', epochs=1000)"
   ],
   "metadata": {
    "collapsed": false
   },
   "id": "ebff25cbe50e1c93"
  },
  {
   "cell_type": "markdown",
   "source": [
    "## Training a model on the final dataset."
   ],
   "metadata": {
    "collapsed": false
   },
   "id": "e9e9ab8c8b271960"
  },
  {
   "cell_type": "code",
   "execution_count": null,
   "outputs": [],
   "source": [
    "# Load a model\n",
    "model = YOLO('runs/detect/train26/weights/last.pt')  # load a pretrained model (recommended for training)\n",
    "\n",
    "results = model.train(data='/kaggle/input/final/data.yaml', epochs=1000)"
   ],
   "metadata": {
    "collapsed": false
   },
   "id": "65b2521b"
  },
  {
   "cell_type": "code",
   "execution_count": null,
   "id": "ec5b430a",
   "metadata": {
    "scrolled": false,
    "is_executing": true
   },
   "outputs": [],
   "source": [
    "# Load a model\n",
    "model = YOLO('runs/detect/train22/weights/last.pt')\n",
    "\n",
    "# Resume training\n",
    "results = model.train(resume=True)"
   ]
  },
  {
   "cell_type": "markdown",
   "source": [
    "Exporting the model as `torchscript` to use with the Flutter app."
   ],
   "metadata": {
    "collapsed": false
   },
   "id": "65265ffcf639b8ab"
  },
  {
   "cell_type": "code",
   "execution_count": null,
   "outputs": [],
   "source": [
    "!yolo mode=export model=runs/detect/train26/weights/best.pt format=torchscript optimize"
   ],
   "metadata": {
    "collapsed": false
   },
   "id": "3bcceb4634322285"
  }
 ],
 "metadata": {
  "kernelspec": {
   "display_name": "Python 3 (ipykernel)",
   "language": "python",
   "name": "python3"
  },
  "language_info": {
   "codemirror_mode": {
    "name": "ipython",
    "version": 3
   },
   "file_extension": ".py",
   "mimetype": "text/x-python",
   "name": "python",
   "nbconvert_exporter": "python",
   "pygments_lexer": "ipython3",
   "version": "3.11.4"
  }
 },
 "nbformat": 4,
 "nbformat_minor": 5
}
