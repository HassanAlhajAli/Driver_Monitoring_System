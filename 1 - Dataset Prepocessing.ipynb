{
 "cells": [
  {
   "cell_type": "markdown",
   "source": [
    "## Importing the necessary libraries, and declaring constants. "
   ],
   "metadata": {
    "collapsed": false
   },
   "id": "13c1e0a18ec939ab"
  },
  {
   "cell_type": "code",
   "execution_count": null,
   "id": "4bda74ace933fd4a",
   "metadata": {},
   "outputs": [],
   "source": [
    "import os\n",
    "import shutil\n",
    "import random\n",
    "import cv2\n",
    "import matplotlib.pyplot as plt\n",
    "from ultralytics import YOLO"
   ]
  },
  {
   "cell_type": "code",
   "execution_count": null,
   "id": "eb2475874c5fc11c",
   "metadata": {},
   "outputs": [],
   "source": [
    "DATASETS_TO_PROCESS_PATH = 'datasets/To Process'\n",
    "DATASETS_PROCESSED_PATH = 'datasets/Processed'\n",
    "FINAL_DATASET_PATH = 'datasets/final'\n",
    "\n",
    "CLASS_NUM_OPEN_EYE = 0\n",
    "CLASS_NUM_CLOSED_EYE = 1\n",
    "CLASS_NUM_CIGARETTE = 2\n",
    "CLASS_NUM_PHONE = 3\n",
    "CLASS_NUM_SEATBELT = 4\n",
    "\n",
    "CLASSES_NAMES = {\n",
    "    0: 'Open Eye',\n",
    "    1: 'Closed Eye',\n",
    "    2: 'Phone',\n",
    "    3: 'Cigarette',\n",
    "    4: 'Seatbelt',\n",
    "}"
   ]
  },
  {
   "cell_type": "markdown",
   "source": [
    "## Declaring a dictionary of datasets, where each dataset has:\n",
    "* Name (the actual path to the dataset)\n",
    "* Data (training, testing, and validation)\n",
    "* Numer of Classes\n",
    "* Initial Classes (the classes the dataset has labels and annotations for)\n",
    "* Target Classes (mapping original class with a new class)\n",
    "* Dataset Link\n"
   ],
   "metadata": {
    "collapsed": false
   },
   "id": "c428e5f148804fe8"
  },
  {
   "cell_type": "code",
   "execution_count": null,
   "id": "abed84e7",
   "metadata": {},
   "outputs": [],
   "source": [
    "DATASETS = [\n",
    "    {\n",
    "        'name': '1 - (Awake - Drowsy)',\n",
    "        'data': ['train', 'valid', 'test'],\n",
    "        'num_classes': 2,\n",
    "        'initial_classes': {\n",
    "            0: 'Awake',\n",
    "            1: 'Drowsy',\n",
    "        },\n",
    "        'target_classes': {\n",
    "            0: 0,\n",
    "            1: 1,\n",
    "        },\n",
    "        'dataset link': 'https://universe.roboflow.com/fyp-vzed3/drivers-drowsiness-detection/dataset/1'\n",
    "    },\n",
    "\n",
    "    {\n",
    "        'name': '2 - (Awake - Drowsy)',\n",
    "        'data': ['train', 'valid'],\n",
    "        'num_classes': 2,\n",
    "        'initial_classes': {\n",
    "            0: 'Awake',\n",
    "            1: 'Drowsy',\n",
    "        },\n",
    "        'target_classes': {\n",
    "            0: 0,\n",
    "            1: 1,\n",
    "        },\n",
    "        'dataset link': 'https://universe.roboflow.com/hufs/dowsy_detectioin/dataset/2'\n",
    "    },\n",
    "\n",
    "    {\n",
    "        'name': '3 - (Open Eye - Closed Eye)',\n",
    "        'data': ['train', 'valid', 'test'],\n",
    "        'num_classes': 2,\n",
    "        'initial_classes': {\n",
    "            0: 'Open Eye',\n",
    "            1: 'Closed Eye',\n",
    "        },\n",
    "        'target_classes': {\n",
    "            2: 0,\n",
    "            3: 1,\n",
    "        },\n",
    "        'dataset link': 'https://universe.roboflow.com/553624589-qq-com/eye_detection-zztm1/dataset/1'\n",
    "    },\n",
    "\n",
    "    {\n",
    "        'name': '4 - (Open Eye - Closed Eye - Yawn)',\n",
    "        'data': ['train', 'valid', 'test'],\n",
    "        'num_classes': 3,\n",
    "        'initial_classes': {\n",
    "            0: 'Open Eye',\n",
    "            1: 'Closed Eye',\n",
    "            2: 'Yawn',  # To be deleted\n",
    "        },\n",
    "        'target_classes': {\n",
    "            2: 0,  # Open Eye\n",
    "            3: 1,  # Closed Eye\n",
    "        },\n",
    "        'dataset link': 'https://universe.roboflow.com/ntutee-project/drowsiness-driver/dataset/1'\n",
    "    },\n",
    "\n",
    "    {\n",
    "        'name': '5 - (Phone)',\n",
    "        'data': ['train', 'valid', 'test'],\n",
    "        'num_classes': 1,\n",
    "        'initial_classes': {\n",
    "            0: 'Phone',\n",
    "        },\n",
    "        'target_classes': {\n",
    "            4: 0,\n",
    "        },\n",
    "        'dataset link': 'https://universe.roboflow.com/sarah-t/mobilephonedetector/dataset/1'\n",
    "    },\n",
    "\n",
    "    {\n",
    "        'name': '6 - (Person - Cigarette)',\n",
    "        'data': ['train', 'valid', 'test'],\n",
    "        'num_classes': 2,\n",
    "        'initial_classes': {\n",
    "            0: 'Person',  # To be deleted\n",
    "            1: 'Cigarette',\n",
    "        },\n",
    "        'target_classes': {\n",
    "            5: 0,\n",
    "        },\n",
    "        'dataset link': 'https://universe.roboflow.com/ensam-swz2h/smoke-detection-88ggt/dataset/1'\n",
    "    },\n",
    "\n",
    "    {\n",
    "        'name': '7 - (Seatbelt)',\n",
    "        'data': ['train', 'valid', 'test'],\n",
    "        'num_classes': 2,\n",
    "        'classes': {\n",
    "        },\n",
    "        'initial_classes': {\n",
    "            0: 'Seatbelt',\n",
    "        },\n",
    "        'target_classes': {\n",
    "            6: 0,\n",
    "        },\n",
    "        'dataset link': 'https://universe.roboflow.com/calisma-wcihp/seatbelt-4i5ly/dataset/1'\n",
    "    },\n",
    "\n",
    "    {\n",
    "        'name': '8 - (HandsNotOnWheel - HandsOnWheel)',\n",
    "        'data': ['train', 'valid', 'test'],\n",
    "        'num_classes': 2,\n",
    "        'initial_classes': {\n",
    "            0: 'HandsNotOnWheel',\n",
    "            1: 'HandsOnWheel',\n",
    "        },\n",
    "        'target_classes': {\n",
    "            7: 0,\n",
    "            8: 1,\n",
    "        },\n",
    "        'dataset link': 'https://universe.roboflow.com/kritik-pancholi-gzk5j/hands_on_wheel_detection/dataset/5'\n",
    "    },\n",
    "\n",
    "    {\n",
    "        'name': '9 - (Cigarette - Phone - Seatbelt)',\n",
    "        'data': ['train', 'valid', 'test'],\n",
    "        'num_classes': 3,\n",
    "        'initial_classes': {\n",
    "            0: 'Cigarette',\n",
    "            1: 'Phone',\n",
    "            2: 'Seatbelt',\n",
    "        },\n",
    "        'target_classes': {\n",
    "            0: 3,\n",
    "            1: 2,\n",
    "            2: 4,\n",
    "        },\n",
    "        'dataset link': 'https://universe.roboflow.com/jui/driver-behaviors'\n",
    "    },\n",
    "]\n"
   ]
  },
  {
   "cell_type": "markdown",
   "id": "6c265ed9080da0eb",
   "metadata": {},
   "source": [
    "## A function to read and return class and annotations of a YOLOv8 label file."
   ]
  },
  {
   "cell_type": "code",
   "execution_count": null,
   "id": "7e2480e7be7ae7eb",
   "metadata": {},
   "outputs": [],
   "source": [
    "# Function to read YOLO-style label files and parse the bounding box info\n",
    "def read_label_file(label_file_path):\n",
    "    with open(label_file_path, 'r') as file:\n",
    "        lines = file.readlines()\n",
    "    objects = []\n",
    "    for line in lines:\n",
    "        if line == '\\n':\n",
    "            continue\n",
    "        elements = line.strip().split()\n",
    "        class_id = int(elements[0])\n",
    "        center_x, center_y, box_width, box_height = map(float, elements[1:])\n",
    "        objects.append((class_id, center_x, center_y, box_width, box_height))\n",
    "\n",
    "    return objects"
   ]
  },
  {
   "cell_type": "markdown",
   "id": "9302b695c4234246",
   "metadata": {},
   "source": [
    "## Plotting 2 images per dataset with each image annotations. "
   ]
  },
  {
   "cell_type": "code",
   "execution_count": null,
   "id": "7ae5a392d0f486a4",
   "metadata": {},
   "outputs": [],
   "source": [
    "for dataset in DATASETS:\n",
    "    print(f\"Showing images from dataset: {dataset['name']}.\")\n",
    "    # Define the path to the directory containing label and image files\n",
    "    dataset_dir = f\"{DATASETS_TO_PROCESS_PATH}/{dataset['name']}/train\"\n",
    "\n",
    "    # List of all image files in the directory\n",
    "    image_files = [f for f in os.listdir(os.path.join(dataset_dir, 'images')) if f.endswith('.jpg')]\n",
    "    # Choose 5 random images\n",
    "    image_files = random.sample(image_files, 2)\n",
    "\n",
    "    # Loop through each image file and plot detected objects\n",
    "    for image_file in image_files:\n",
    "        # Load the image\n",
    "        image_path = os.path.join(dataset_dir, 'images', image_file)\n",
    "        image = cv2.imread(image_path)\n",
    "\n",
    "        # Load the corresponding label file\n",
    "        label_file_path = os.path.join(dataset_dir, 'labels', image_file.replace('.jpg', '.txt'))\n",
    "\n",
    "        # Check if the label file exists\n",
    "        if os.path.exists(label_file_path):\n",
    "            # Parse the label file to get object info\n",
    "            objects = read_label_file(label_file_path)\n",
    "\n",
    "            # Loop through detected objects and draw bounding boxes with labels\n",
    "            for obj in objects:\n",
    "                class_id, center_x, center_y, box_width, box_height = obj\n",
    "\n",
    "                # Convert YOLO format to pixel coordinates\n",
    "                height, width, _ = image.shape\n",
    "                left = int((center_x - box_width / 2) * width)\n",
    "                top = int((center_y - box_height / 2) * height)\n",
    "                right = int((center_x + box_width / 2) * width)\n",
    "                bottom = int((center_y + box_height / 2) * height)\n",
    "\n",
    "                # Draw bounding box on the image\n",
    "                cv2.rectangle(image, (left, top), (right, bottom), (0, 255, 0), 2)\n",
    "\n",
    "                # Add class label\n",
    "                class_label = dataset['initial_classes'][class_id]\n",
    "                label_text = f'{class_label}'\n",
    "                cv2.putText(image, label_text, (left, top - 10), cv2.FONT_HERSHEY_SIMPLEX, 0.5, (0, 255, 0), 2)\n",
    "\n",
    "        # Display the image with bounding boxes and labels\n",
    "        plt.imshow(cv2.cvtColor(image, cv2.COLOR_BGR2RGB))\n",
    "        plt.title(f'Detected Objects in {image_file}')\n",
    "        plt.axis('off')\n",
    "        plt.show()"
   ]
  },
  {
   "cell_type": "markdown",
   "source": [
    "### After reviewing the quality of the available datasets, the listed ones are to be used:\n",
    "\n",
    "* 3 - (Open Eye - Closed Eye)\n",
    "* 9 - (Cigarette - Phone - Seatbelt)\n"
   ],
   "metadata": {
    "collapsed": false
   },
   "id": "cf5e448ed0432bb9"
  },
  {
   "cell_type": "markdown",
   "source": [
    "#### The updated DATASETS would be:\n"
   ],
   "metadata": {
    "collapsed": false
   },
   "id": "500ebd2a8fd4ec3d"
  },
  {
   "cell_type": "code",
   "execution_count": null,
   "outputs": [],
   "source": [
    "DATASETS = [\n",
    "    {\n",
    "        'name': '3 - (Open Eye - Closed Eye)',\n",
    "        'data': ['train', 'valid', 'test'],\n",
    "        'num_classes': 2,\n",
    "        'initial_classes': {\n",
    "            0: 'Open Eye',\n",
    "            1: 'Closed Eye',\n",
    "        },\n",
    "        'target_classes': {\n",
    "            0: CLASS_NUM_OPEN_EYE,\n",
    "            1: CLASS_NUM_CLOSED_EYE,\n",
    "        },\n",
    "        'dataset link': 'https://universe.roboflow.com/553624589-qq-com/eye_detection-zztm1/dataset/1'\n",
    "    },\n",
    "\n",
    "    {\n",
    "        'name': '9 - (Cigarette - Phone - Seatbelt)',\n",
    "        'data': ['train', 'valid', 'test'],\n",
    "        'num_classes': 3,\n",
    "        'initial_classes': {\n",
    "            0: 'Cigarette',\n",
    "            1: 'Phone',\n",
    "            2: 'Seatbelt',\n",
    "        },\n",
    "        'target_classes': {\n",
    "            0: CLASS_NUM_CIGARETTE,\n",
    "            1: CLASS_NUM_PHONE,\n",
    "            2: CLASS_NUM_SEATBELT,\n",
    "        },\n",
    "        'dataset link': 'https://universe.roboflow.com/sarah-t/mobilephonedetector/dataset/1'\n",
    "    },\n",
    "]"
   ],
   "metadata": {
    "collapsed": false
   },
   "id": "1a10e124c18a547c"
  },
  {
   "cell_type": "markdown",
   "source": [
    "## Things to check for in the labels files:\n",
    "* Empty label file.\n",
    "* Non YOLOv8 Object Detection labeling format."
   ],
   "metadata": {
    "collapsed": false
   },
   "id": "5c8a175306ac1adc"
  },
  {
   "cell_type": "code",
   "execution_count": null,
   "id": "9806d2e7",
   "metadata": {},
   "outputs": [],
   "source": [
    "def is_empty_file(file_path):\n",
    "    with open(file_path, 'r') as file:\n",
    "        for line in file:\n",
    "            # Check if the line contains non-whitespace characters\n",
    "            if line.strip():\n",
    "                return False\n",
    "    # If the loop completes without finding non-whitespace characters, the file is empty\n",
    "    return True"
   ]
  },
  {
   "cell_type": "code",
   "execution_count": null,
   "id": "32398067",
   "metadata": {},
   "outputs": [],
   "source": [
    "# Initialize a counter to keep track of moved files\n",
    "moved_counter = 0\n",
    "format_error_counter = 0\n",
    "\n",
    "# Loop through each dataset in the DATASETS list\n",
    "for dataset in DATASETS:\n",
    "    print(f\"Processing dataset: {dataset['name']}\")\n",
    "\n",
    "    # Iterate over data splits: 'train', 'valid', and 'test'\n",
    "    for data in dataset['data']:\n",
    "        print(f\"Checking {dataset['name']}'s {data} directory...\")\n",
    "\n",
    "        # Define paths to label and image directories\n",
    "        labels_dir = f\"{DATASETS_TO_PROCESS_PATH}/{dataset['name']}/{data}/labels\"\n",
    "        images_dir = f\"{DATASETS_TO_PROCESS_PATH}/{dataset['name']}/{data}/images\"\n",
    "\n",
    "        # Create a \"deleted\" directory if it doesn't exist\n",
    "        new_labels_dir = os.path.join(f\"{DATASETS_TO_PROCESS_PATH}/\", dataset['name'], data, \"deleted\")\n",
    "        os.makedirs(new_labels_dir, exist_ok=True)\n",
    "\n",
    "        # Iterate through label files in the labels directory\n",
    "        for filename in os.listdir(labels_dir):\n",
    "            if filename.endswith('.txt'):\n",
    "                # Determine the corresponding image name\n",
    "                corresponding_image_name = filename[:-3] + 'jpg'\n",
    "\n",
    "                # Define paths to the source (to be deleted) and destination (deleted_dir) files\n",
    "                source_label_path = os.path.join(labels_dir, filename)\n",
    "                source_image_path = os.path.join(images_dir, corresponding_image_name)\n",
    "                destination_label_path = os.path.join(new_labels_dir, filename)\n",
    "                destination_image_path = os.path.join(new_labels_dir, corresponding_image_name)\n",
    "\n",
    "                # Check if the label file is empty\n",
    "                if os.path.exists(os.path.join(labels_dir, filename)) and is_empty_file(\n",
    "                        os.path.join(labels_dir, filename)):\n",
    "                    # Move both the label and image files to the \"deleted\" directory\n",
    "                    shutil.move(source_label_path, destination_label_path)\n",
    "                    shutil.move(source_image_path, destination_image_path)\n",
    "\n",
    "                    # Print a message about the move\n",
    "                    print(f'Moved: {filename} and its corresponding image to \"deleted\" directory.')\n",
    "\n",
    "                    # Increment the moved file counter\n",
    "                    moved_counter += 1\n",
    "                    continue\n",
    "\n",
    "                # Check if for corresponding image existence\n",
    "                if not os.path.exists(source_image_path):\n",
    "                    # Move both the label and image files to the \"deleted\" directory\n",
    "                    shutil.move(source_label_path, destination_label_path)\n",
    "                    shutil.move(source_image_path, destination_image_path)\n",
    "\n",
    "                    # Print a message about the move\n",
    "                    print(f'Moved: {filename} to \"deleted\" directory, because no corresponding image was found.')\n",
    "\n",
    "                    # Increment the moved file counter\n",
    "                    moved_counter += 1\n",
    "                    continue\n",
    "\n",
    "                with open(os.path.join(labels_dir, filename), 'r') as f:\n",
    "                    lines = f.readlines()\n",
    "\n",
    "                # Open the label file for writing\n",
    "                with open(os.path.join(labels_dir, filename), 'w') as f:\n",
    "                    # Process each line in the label file\n",
    "                    for line in lines:\n",
    "                        if len(line) == 0:\n",
    "                            continue\n",
    "\n",
    "                        # Create a list to store new lines with updated class mappings\n",
    "                        updated_lines = []\n",
    "\n",
    "                        # Iterate through class mappings in the dataset's 'classes' dictionary\n",
    "                        # Some label files include detection and segmentation info\n",
    "                        line_format_error = False\n",
    "\n",
    "                        delete = False\n",
    "\n",
    "                        elements = line.strip().split()\n",
    "                        if len(elements) != 5:\n",
    "                            line_format_error = True\n",
    "                            format_error_counter += 1\n",
    "                            continue\n",
    "                        object_class = elements[0]\n",
    "                        target_object_class = dataset['target_classes'][int(object_class)]\n",
    "                        target_object_class = str(target_object_class)\n",
    "\n",
    "                        if target_object_class == '-1':\n",
    "                            delete = True\n",
    "                            continue\n",
    "\n",
    "                        # Replace the object class with the new class\n",
    "                        updated_line = target_object_class + line[len(object_class):]\n",
    "                        updated_lines.append(updated_line)\n",
    "\n",
    "                        # If there are updated lines, write them; otherwise, write the original line\n",
    "                        if not delete:\n",
    "                            if updated_lines or line_format_error:\n",
    "                                f.writelines(updated_lines)\n",
    "                            else:\n",
    "                                f.write(line)\n",
    "                if delete:\n",
    "                    shutil.move(source_label_path, destination_label_path)\n",
    "                    shutil.move(source_image_path, destination_image_path)\n",
    "        print('===\\n')\n",
    "\n",
    "    # Print a message indicating the completion of dataset processing\n",
    "    print(f\"Finished processing dataset: {dataset['name']}...\")\n",
    "    print('==== ==== ==== ====\\n\\n')\n",
    "\n",
    "# Print the total number of moved files across all datasets\n",
    "print(f\"Total moved files: {moved_counter}\")\n",
    "print(f\"Total files with wrong YoloV8 (Detect) format: {format_error_counter}\")"
   ]
  },
  {
   "cell_type": "markdown",
   "source": [
    "## Craeting a backup of the datasets first"
   ],
   "metadata": {
    "collapsed": false
   },
   "id": "9d585e22fbad21ed"
  },
  {
   "cell_type": "code",
   "execution_count": null,
   "outputs": [],
   "source": [
    "for dataset in DATASETS:\n",
    "    print(f\"Copying {dataset['name']} files...\")\n",
    "    data_dir = f\"{DATASETS_TO_PROCESS_PATH}/{dataset['name']}/\"\n",
    "    shutil.copytree(data_dir, f\"{DATASETS_TO_PROCESS_PATH}/Backup/{dataset['name']}\", dirs_exist_ok=True)\n",
    "\n",
    "print('Finished copying')"
   ],
   "metadata": {
    "collapsed": false
   },
   "id": "23b24c7c2b97a868"
  },
  {
   "cell_type": "markdown",
   "source": [
    "### Training a model on the eyes dataset is required. "
   ],
   "metadata": {
    "collapsed": false
   },
   "id": "57e4d1b74348e6a4"
  },
  {
   "cell_type": "code",
   "execution_count": null,
   "outputs": [],
   "source": [
    "EYES_ONLY_MODEL_PATH = 'models/eyes.pt'"
   ],
   "metadata": {
    "collapsed": false
   },
   "id": "49b26c71a53f3c19"
  },
  {
   "cell_type": "markdown",
   "source": [
    "## Running the eyes only model on the second dataset, and adding the annotations detected by the model."
   ],
   "metadata": {
    "collapsed": false
   },
   "id": "8743030d0359beb6"
  },
  {
   "cell_type": "code",
   "execution_count": null,
   "outputs": [],
   "source": [
    "dataset_name = DATASETS[1]['name']  # 9 - (Cigarette - Phone - Seatbelt)\n",
    "dataset_dir = f\"{DATASETS_TO_PROCESS_PATH}/{dataset_name}/train\"\n",
    "\n",
    "# List all image files in the directory\n",
    "image_files = [f for f in os.listdir(os.path.join(dataset_dir, 'images')) if f.endswith('.jpg')]\n",
    "# Choose 20 random images\n",
    "image_files = random.sample(image_files, 20)\n",
    "\n",
    "# Loop through each image file and plot detected objects\n",
    "for image_file in image_files:\n",
    "    # Load the image\n",
    "    image_path = os.path.join(dataset_dir, 'images', image_file)\n",
    "    image = cv2.imread(image_path)\n",
    "\n",
    "    # Load the corresponding label file\n",
    "    label_file_path = os.path.join(dataset_dir, 'labels', image_file.replace('.jpg', '.txt'))\n",
    "\n",
    "    model = YOLO(EYES_ONLY_MODEL_PATH)\n",
    "\n",
    "    results = model(image)  # results list\n",
    "    model.predict(image, conf=0.6)\n",
    "    # Visualize the results on the frame\n",
    "    annotated_frame = results[0].plot()\n",
    "\n",
    "    # Display the image with bounding boxes and labels\n",
    "    plt.imshow(cv2.cvtColor(annotated_frame, cv2.COLOR_BGR2RGB))\n",
    "    plt.title(f'Detected Objects in {image_file}')\n",
    "    plt.axis('off')\n",
    "    plt.show()"
   ],
   "metadata": {
    "collapsed": false
   },
   "id": "a3726c77d2423425"
  },
  {
   "cell_type": "code",
   "execution_count": null,
   "outputs": [],
   "source": [
    "model = YOLO(EYES_ONLY_MODEL_PATH)\n",
    "model.predict(source=f'{DATASETS_TO_PROCESS_PATH}/{dataset_name}/train/images', task='detect', mode='predict', conf=0.5,\n",
    "              save_txt=True, save=True, project=f'{DATASETS_TO_PROCESS_PATH}/final/train')\n",
    "\n",
    "model.predict(source=f'{DATASETS_TO_PROCESS_PATH}/{dataset_name}/valid/images', task='detect', mode='predict', conf=0.5,\n",
    "              save_txt=True, save=True, project=f'{DATASETS_TO_PROCESS_PATH}/final/valid')\n",
    "\n",
    "model.predict(source=f'{DATASETS_TO_PROCESS_PATH}/{dataset_name}/test/images', task='detect', mode='predict', conf=0.5,\n",
    "              save_txt=True, save=True, project=f'{DATASETS_TO_PROCESS_PATH}/final/test')"
   ],
   "metadata": {
    "collapsed": false
   },
   "id": "3e6de6f12cde36ff"
  },
  {
   "cell_type": "markdown",
   "source": [
    "## Merging the resulting labels files with the original ones, and updating classes labels. "
   ],
   "metadata": {
    "collapsed": false
   },
   "id": "4e04aed853b350ef"
  },
  {
   "cell_type": "code",
   "execution_count": null,
   "outputs": [],
   "source": [
    "orig_dataset_name = dataset_name  # 9 - (Cigarette - Phone - Seatbelt)\n",
    "new_dataset_name = 'final'\n",
    "# Iterate over data splits: 'train', 'valid'\n",
    "for data in ['train', 'valid', 'test']:\n",
    "    # Define paths to label and image directories\n",
    "    orig_labels_dir = f\"{DATASETS_TO_PROCESS_PATH}/{orig_dataset_name}/{data}/labels\"\n",
    "\n",
    "    # Create a \"deleted\" directory if it doesn't exist\n",
    "    new_labels_dir = f\"{DATASETS_TO_PROCESS_PATH}/{new_dataset_name}/{data}/predict/labels/\"\n",
    "\n",
    "    final_labels_dir = f\"{DATASETS_TO_PROCESS_PATH}/{new_dataset_name}/{data}/labels/\"\n",
    "    os.makedirs(final_labels_dir, exist_ok=True)\n",
    "\n",
    "    # Iterate through label files in the labels directory\n",
    "    for filename in os.listdir(orig_labels_dir):\n",
    "        if filename.endswith('.txt'):\n",
    "            source_label_path = os.path.join(orig_labels_dir, filename)\n",
    "            destination_label_path = os.path.join(final_labels_dir, filename)\n",
    "\n",
    "            shutil.copy2(source_label_path, destination_label_path)\n",
    "\n",
    "            orig_lines = []\n",
    "            with open(os.path.join(orig_labels_dir, filename), 'r') as f:\n",
    "                orig_lines = f.readlines()\n",
    "\n",
    "            new_lines = []\n",
    "            file_path = os.path.join(new_labels_dir, filename)\n",
    "            if os.path.exists(file_path):\n",
    "                with open(file_path, 'r') as f:\n",
    "                    new_lines = f.readlines()\n",
    "\n",
    "            # Open the label file for writing\n",
    "            with open(os.path.join(final_labels_dir, filename), 'w') as f:\n",
    "                all_lines = []\n",
    "\n",
    "                for line in orig_lines:\n",
    "                    all_lines.append(line + '\\n')\n",
    "\n",
    "                for line in new_lines:\n",
    "                    all_lines.append(line + '\\n')\n",
    "\n",
    "                f.writelines(all_lines)"
   ],
   "metadata": {
    "collapsed": false
   },
   "id": "f8d12cb8f084ad3"
  },
  {
   "cell_type": "markdown",
   "source": [
    "Copying the images."
   ],
   "metadata": {
    "collapsed": false
   },
   "id": "d40b6b3ad8e32a10"
  },
  {
   "cell_type": "code",
   "execution_count": null,
   "outputs": [],
   "source": [
    "orig_dataset_name = dataset_name  # 9 - (Cigarette - Phone - Seatbelt)\n",
    "new_dataset_name = 'final'\n",
    "# Iterate over data splits: 'train', 'valid'\n",
    "for data in ['train', 'valid', 'test']:\n",
    "    # Define paths to label and image directories\n",
    "    orig_images_dir = f\"{DATASETS_TO_PROCESS_PATH}/{orig_dataset_name}/{data}/images\"\n",
    "\n",
    "    final_images_dir = f\"{DATASETS_TO_PROCESS_PATH}/{new_dataset_name}/{data}/images/\"\n",
    "    os.makedirs(final_images_dir, exist_ok=True)\n",
    "\n",
    "    # Iterate through label files in the labels directory\n",
    "    for filename in os.listdir(orig_images_dir):\n",
    "        if filename.endswith('.jpg'):\n",
    "            source_image_path = os.path.join(orig_images_dir, filename)\n",
    "            destination_image_path = os.path.join(final_images_dir, filename)\n",
    "\n",
    "            shutil.copy2(source_image_path, destination_image_path)"
   ],
   "metadata": {
    "collapsed": false
   },
   "id": "c59e4232c591d8dd"
  },
  {
   "cell_type": "markdown",
   "source": [
    "## Copy the dataset"
   ],
   "metadata": {
    "collapsed": false
   },
   "id": "59ecc4e066219eb6"
  },
  {
   "cell_type": "code",
   "execution_count": null,
   "outputs": [],
   "source": [
    "print(f\"Copying final dataset files...\")\n",
    "data_dir = f\"{DATASETS_TO_PROCESS_PATH}/final/\"\n",
    "shutil.copytree(data_dir, DATASETS_PROCESSED_PATH, dirs_exist_ok=True)\n",
    "\n",
    "print('Finished copying')"
   ],
   "metadata": {
    "collapsed": false
   },
   "id": "f3e75eb0"
  },
  {
   "cell_type": "markdown",
   "source": [
    "## After copying the final dataset, the data.yaml file should be edited."
   ],
   "metadata": {
    "collapsed": false
   },
   "id": "121fd43e5a85b0c7"
  },
  {
   "cell_type": "code",
   "execution_count": null,
   "outputs": [],
   "source": [
    "import ruamel.yaml\n",
    "\n",
    "data = ruamel.yaml.comments.CommentedMap()\n",
    "data['train'] = '../train/images'\n",
    "data['val'] = '../valid/images'\n",
    "data['test'] = '../test/images'\n",
    "data['nc'] = 5\n",
    "data['names'] = [\n",
    "    'Open Eye',\n",
    "    'Closed Eye',\n",
    "    'Cigarette',\n",
    "    'Phone',\n",
    "    'Seatbelt'\n",
    "]\n",
    "\n",
    "output_dir = f\"{DATASETS_PROCESSED_PATH}\"  # Replace with the desired directory path\n",
    "os.makedirs(output_dir, exist_ok=True)  # Create the directory if it doesn't exist\n",
    "\n",
    "output_file = os.path.join(output_dir, 'data.yaml')\n",
    "\n",
    "with open(output_file, 'w') as yaml_file:\n",
    "    yaml = ruamel.yaml.YAML()\n",
    "    yaml.dump(data, yaml_file)"
   ],
   "metadata": {
    "collapsed": false
   },
   "id": "ec8c90b72ac989b6"
  },
  {
   "cell_type": "code",
   "execution_count": null,
   "outputs": [],
   "source": [
    "FINAL_DATASET = {\n",
    "    'name': 'FINAL_DATASET',\n",
    "    'data': ['train', 'valid', 'test'],\n",
    "    'num_classes': 5,\n",
    "    'classes': {\n",
    "        0: 'Open Eye',\n",
    "        1: 'Closed Eye',\n",
    "        2: 'Cigarette',\n",
    "        3: 'Phone',\n",
    "        4: 'Seatbelt'\n",
    "    }\n",
    "}"
   ],
   "metadata": {
    "collapsed": false
   },
   "id": "d1b5062e"
  },
  {
   "cell_type": "markdown",
   "source": [
    "## Counting number of instances of each class"
   ],
   "metadata": {
    "collapsed": false
   },
   "id": "2ad013f95a33454"
  },
  {
   "cell_type": "code",
   "execution_count": null,
   "outputs": [],
   "source": [
    "import os\n",
    "\n",
    "classes_counters = [0] * FINAL_DATASET['num_classes']\n",
    "\n",
    "for data in FINAL_DATASET['data']:\n",
    "    current_dir = os.path.join(f'{DATASETS_PROCESSED_PATH}', data, 'labels')\n",
    "    # Iterate through label files in the labels directory\n",
    "    for filename in os.listdir(current_dir):\n",
    "        with open(os.path.join(current_dir, filename), 'r') as f:\n",
    "            lines = f.readlines()\n",
    "\n",
    "        for line in lines:\n",
    "            # Iterate through class mappings in the dataset's 'classes' dictionary\n",
    "            elements = line.strip().split()\n",
    "            if len(elements):\n",
    "                object_class = elements[0]\n",
    "                classes_counters[int(object_class)] += 1\n",
    "\n",
    "for i in range(0, FINAL_DATASET['num_classes']):\n",
    "    print(f\"Found {classes_counters[i]} instances of class {FINAL_DATASET['classes'][i]}\")"
   ],
   "metadata": {
    "collapsed": false
   },
   "id": "bdc598d0"
  },
  {
   "cell_type": "markdown",
   "source": [
    "## Showing some images of the final dataset."
   ],
   "metadata": {
    "collapsed": false
   },
   "id": "3ae255eb035cea6d"
  },
  {
   "cell_type": "code",
   "execution_count": null,
   "outputs": [],
   "source": [
    "print(f\"Shwoing images from dataset:\")\n",
    "# Define the path to the directory containing label and image files\n",
    "dataset_dir = f\"{DATASETS_PROCESSED_PATH}/train\"  # Replace DATASET_NAME with the actual dataset name\n",
    "\n",
    "# List all image files in the directory\n",
    "image_files = [f for f in os.listdir(os.path.join(dataset_dir, 'images')) if f.endswith('.jpg')]\n",
    "image_files = random.sample(image_files, 50)\n",
    "\n",
    "# Loop through each image file and plot detected objects\n",
    "for image_file in image_files:\n",
    "    # Load the image\n",
    "    image_path = os.path.join(dataset_dir, 'images', image_file)\n",
    "    image = cv2.imread(image_path)\n",
    "\n",
    "    # Load the corresponding label file\n",
    "    label_file_path = os.path.join(dataset_dir, 'labels', image_file.replace('.jpg', '.txt'))\n",
    "    # Check if the label file exists\n",
    "    if os.path.exists(label_file_path):\n",
    "        # Parse the label file to get object info\n",
    "        objects = read_label_file(label_file_path)\n",
    "\n",
    "        # Loop through detected objects and draw bounding boxes with labels\n",
    "        for obj in objects:\n",
    "            class_id, center_x, center_y, box_width, box_height = obj\n",
    "\n",
    "            # Convert YOLO format to pixel coordinates\n",
    "            height, width, _ = image.shape\n",
    "            left = int((center_x - box_width / 2) * width)\n",
    "            top = int((center_y - box_height / 2) * height)\n",
    "            right = int((center_x + box_width / 2) * width)\n",
    "            bottom = int((center_y + box_height / 2) * height)\n",
    "\n",
    "            # Draw bounding box on the image\n",
    "            cv2.rectangle(image, (left, top), (right, bottom), (0, 255, 0), 2)\n",
    "            # Add class label\n",
    "            class_label = FINAL_DATASET['classes'][class_id]\n",
    "            label_text = f'{class_label}'\n",
    "            cv2.putText(image, label_text, (left, top - 10), cv2.FONT_HERSHEY_SIMPLEX, 0.5, (0, 255, 0), 2)\n",
    "\n",
    "    # Display the image with bounding boxes and labels\n",
    "    plt.imshow(cv2.cvtColor(image, cv2.COLOR_BGR2RGB))\n",
    "    plt.title(f'Detected Objects in {image_file}')\n",
    "    plt.axis('off')\n",
    "    plt.show()"
   ],
   "metadata": {
    "collapsed": false
   },
   "id": "9f7cf242"
  }
 ],
 "metadata": {
  "kernelspec": {
   "display_name": "Python 3 (ipykernel)",
   "language": "python",
   "name": "python3"
  },
  "language_info": {
   "codemirror_mode": {
    "name": "ipython",
    "version": 3
   },
   "file_extension": ".py",
   "mimetype": "text/x-python",
   "name": "python",
   "nbconvert_exporter": "python",
   "pygments_lexer": "ipython3",
   "version": "3.11.4"
  }
 },
 "nbformat": 4,
 "nbformat_minor": 5
}
