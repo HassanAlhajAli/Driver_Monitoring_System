{
 "cells": [
  {
   "cell_type": "code",
   "execution_count": null,
   "id": "d4b50bb9",
   "metadata": {},
   "outputs": [],
   "source": [
    "from ultralytics import YOLO"
   ]
  },
  {
   "cell_type": "code",
   "execution_count": null,
   "id": "65b2521b",
   "metadata": {
    "scrolled": false
   },
   "outputs": [],
   "source": [
    "# Load a model\n",
    "model = YOLO('yolov8n.pt')  # load a pretrained model (recommended for training)\n",
    "\n",
    "# Resume training\n",
    "results = model.train(data='C:/Users/habba/DMS/Datasets/full dataset/data.yaml', epochs=10, workers=6)"
   ]
  },
  {
   "cell_type": "code",
   "execution_count": null,
   "id": "ec5b430a",
   "metadata": {
    "scrolled": false
   },
   "outputs": [],
   "source": [
    "# Load a model\n",
    "model = YOLO('runs/detect/train2/weights/last.pt')  # load a pretrained model (recommended for training)\n",
    "\n",
    "# Resume training\n",
    "results = model.train(resume=True, workers=6)"
   ]
  },
  {
   "cell_type": "code",
   "execution_count": null,
   "id": "c26cf79f",
   "metadata": {
    "scrolled": false
   },
   "outputs": [],
   "source": [
    "# Load a model\n",
    "model = YOLO('last - 128.pt')  # load a pretrained model (recommended for training)\n",
    "\n",
    "# Resume training\n",
    "results = model.train(data='C:/Users/habba/DMS/kaggle/input/dms-ds/data.yaml', resume=True)"
   ]
  }
 ],
 "metadata": {
  "kernelspec": {
   "display_name": "Python 3 (ipykernel)",
   "language": "python",
   "name": "python3"
  },
  "language_info": {
   "codemirror_mode": {
    "name": "ipython",
    "version": 3
   },
   "file_extension": ".py",
   "mimetype": "text/x-python",
   "name": "python",
   "nbconvert_exporter": "python",
   "pygments_lexer": "ipython3",
   "version": "3.11.4"
  }
 },
 "nbformat": 4,
 "nbformat_minor": 5
}
