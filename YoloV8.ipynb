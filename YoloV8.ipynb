{
 "cells": [
  {
   "cell_type": "code",
   "execution_count": null,
   "id": "d4b50bb9",
   "metadata": {},
   "outputs": [],
   "source": [
    "from ultralytics import YOLO"
   ]
  },
  {
   "cell_type": "code",
   "execution_count": null,
   "id": "65b2521b",
   "metadata": {
    "scrolled": false
   },
   "outputs": [],
   "source": [
    "# Load a model\n",
    "model = YOLO('yolov8n.pt')  # load a pretrained model (recommended for training)\n",
    "\n",
    "# Resume training\n",
    "results = model.train(data='C:/Users/habba/DMS/Datasets/full dataset/data.yaml', epochs=10, workers=6)"
   ]
  },
  {
   "cell_type": "code",
   "execution_count": null,
   "id": "ec5b430a",
   "metadata": {
    "scrolled": false
   },
   "outputs": [],
   "source": [
    "# Load a model\n",
    "model = YOLO('runs/detect/train2/weights/last.pt')  # load a pretrained model (recommended for training)\n",
    "\n",
    "# Resume training\n",
    "results = model.train(resume=True, workers=6)"
   ]
  },
  {
   "cell_type": "code",
   "execution_count": null,
   "id": "c26cf79f",
   "metadata": {
    "scrolled": false
   },
   "outputs": [],
   "source": [
    "# Load a model\n",
    "model = YOLO('last - 128.pt')  # load a pretrained model (recommended for training)\n",
    "\n",
    "# Resume training\n",
    "results = model.train(data='C:/Users/habba/DMS/kaggle/input/dms-ds/data.yaml', resume=True)"
   ]
  },
  {
   "cell_type": "code",
   "execution_count": null,
   "id": "f35910a9",
   "metadata": {},
   "outputs": [],
   "source": [
    "import os\n",
    "\n",
    "# Get the current working directory\n",
    "current_directory = os.getcwd()\n",
    "\n",
    "# Print the current working directory\n",
    "print(\"Current Directory:\", current_directory)\n"
   ]
  },
  {
   "cell_type": "code",
   "execution_count": null,
   "id": "cd575275",
   "metadata": {},
   "outputs": [],
   "source": [
    "# Specify the path to the directory you want to change to\n",
    "new_directory = 'C:/Users/habba/DMS/'\n",
    "\n",
    "# Change the current working directory to the specified directory\n",
    "os.chdir(new_directory)"
   ]
  },
  {
   "cell_type": "code",
   "execution_count": null,
   "id": "8e2f5905",
   "metadata": {},
   "outputs": [],
   "source": [
    "import os\n",
    "current_directory = os.getcwd()\n",
    "print(current_directory)\n",
    "os.listdir(current_directory)"
   ]
  },
  {
   "cell_type": "code",
   "execution_count": null,
   "id": "55bcade2",
   "metadata": {},
   "outputs": [],
   "source": [
    "from ultralytics import YOLO\n",
    "# Load a model\n",
    "model = YOLO('C:/Users/habba/DMS/runs/detect/train18/weights/last.pt')  # load a pretrained model (recommended for training)\n",
    "\n",
    "# Resume training\n",
    "results = model.train(resume=True)"
   ]
  },
  {
   "cell_type": "code",
   "execution_count": null,
   "outputs": [],
   "source": [
    "from ultralytics import YOLO\n",
    "# Load a model\n",
    "model = YOLO('C:/Users/habba/DMS/runs/detect/train18/weights/last.pt')  # load a pretrained model (recommended for training)\n",
    "\n",
    "# Resume training\n",
    "results = model.train(resume=True)"
   ],
   "metadata": {
    "collapsed": false
   },
   "id": "13cf5ba0d1778ef7"
  },
  {
   "cell_type": "code",
   "execution_count": null,
   "outputs": [],
   "source": [],
   "metadata": {
    "collapsed": false
   },
   "id": "8b63ecda24f08a09"
  },
  {
   "cell_type": "code",
   "execution_count": null,
   "outputs": [],
   "source": [
    "import os\n",
    "cwd = os.getcwd()\n",
    "\n",
    "os.chdir('C:/Users/habba/DMS')\n",
    "\n",
    "print(os.getcwd())"
   ],
   "metadata": {
    "collapsed": false
   },
   "id": "573be3f8c429f6ca"
  },
  {
   "cell_type": "code",
   "execution_count": null,
   "outputs": [],
   "source": [
    "from ultralytics import YOLO\n",
    "\n",
    "# Load a model\n",
    "model = YOLO('yolov8n.pt')  # load a pretrained model (recommended for training)\n",
    "\n",
    "print(model.names)\n",
    "\n",
    "# Resume training\n",
    "results = model.train(data='C:/kaggle/input/dms-ds/data.yaml', epochs=1000)"
   ],
   "metadata": {
    "collapsed": false
   },
   "id": "c149ef29cf2ef146"
  },
  {
   "cell_type": "code",
   "execution_count": null,
   "outputs": [],
   "source": [
    "# \"C:\\Users\\habba\\PycharmProjects\\DMS\\runs\\detect\\train2\\weights\\last.pt\"\n",
    "\n",
    "from ultralytics import YOLO\n",
    "# Load a model\n",
    "model = YOLO('C:/Users/habba/PycharmProjects/DMS/runs/detect/train2/weights/last.pt')  # load a pretrained model (recommended for training)\n",
    "\n",
    "# Resume training\n",
    "results = model.train(resume=True)"
   ],
   "metadata": {
    "collapsed": false
   },
   "id": "2469715d6d56c179"
  },
  {
   "cell_type": "code",
   "execution_count": null,
   "outputs": [],
   "source": [
    "from ultralytics import YOLO\n",
    "\n",
    "# Load a model\n",
    "model = YOLO('yolov8n.pt')  # load a pretrained model (recommended for training)\n",
    "\n",
    "# Resume training\n",
    "results = model.train(data='C:/Users/habba/DMS/Datasets/Eyes-Face-DS/data.yaml', epochs=100)"
   ],
   "metadata": {
    "collapsed": false
   },
   "id": "d9bba97700ef6cc5"
  },
  {
   "cell_type": "code",
   "execution_count": null,
   "outputs": [],
   "source": [
    "\n",
    "\n",
    "from ultralytics import YOLO\n",
    "\n",
    "# Load a model\n",
    "model = YOLO('yolov8n.pt')  # load a pretrained model (recommended for training)\n",
    "\n",
    "# Resume training\n",
    "results = model.train(data='C:/Users/habba/DMS/Datasets/Seperate Datasets/D4 -/data.yaml', epochs=1000)"
   ],
   "metadata": {
    "collapsed": false
   },
   "id": "f33500084f67c3d"
  },
  {
   "cell_type": "code",
   "execution_count": null,
   "outputs": [],
   "source": [
    "from ultralytics import YOLO\n",
    "# Load a model\n",
    "model = YOLO('C:/Users/habba/PycharmProjects/DMS/runs/detect/train8/weights/last.pt')  # load a pretrained model (recommended for training)\n",
    "\n",
    "# Resume training\n",
    "results = model.train(resume=True, patience=100)"
   ],
   "metadata": {
    "collapsed": false
   },
   "id": "dc47b7588ddb4b76"
  },
  {
   "cell_type": "code",
   "execution_count": null,
   "outputs": [],
   "source": [
    "\n",
    "\n",
    "from ultralytics import YOLO\n",
    "\n",
    "# Load a model\n",
    "model = YOLO('C:/Users/habba/PycharmProjects/DMS/runs/detect/train8/weights/last.pt')  # load a pretrained model (recommended for training)\n",
    "\n",
    "# Resume training\n",
    "results = model.train(data='C:/Users/habba/DMS/Datasets/Seperate Datasets/D4 -/data.yaml', epochs=1000, patience=100)"
   ],
   "metadata": {
    "collapsed": false
   },
   "id": "e9b41557de85a49"
  },
  {
   "cell_type": "markdown",
   "source": [],
   "metadata": {
    "collapsed": false
   },
   "id": "f4bbee11ef2cb3dd"
  },
  {
   "cell_type": "code",
   "execution_count": null,
   "outputs": [],
   "source": [
    "from ultralytics import YOLO\n",
    "\n",
    "# Load a model\n",
    "model = YOLO('C:/Users/habba/PycharmProjects/DMS/runs/detect/train12/weights/best.pt')  # load a pretrained model (recommended for training)\n",
    "\n",
    "# Resume training\n",
    "results = model.train(data='C:/Users/habba/DMS/Datasets/Seperate Datasets/EYES/data.yaml', epochs=1000)"
   ],
   "metadata": {
    "collapsed": false
   },
   "id": "55feca30f3de5170"
  }
 ],
 "metadata": {
  "kernelspec": {
   "display_name": "Python 3 (ipykernel)",
   "language": "python",
   "name": "python3"
  },
  "language_info": {
   "codemirror_mode": {
    "name": "ipython",
    "version": 3
   },
   "file_extension": ".py",
   "mimetype": "text/x-python",
   "name": "python",
   "nbconvert_exporter": "python",
   "pygments_lexer": "ipython3",
   "version": "3.11.4"
  }
 },
 "nbformat": 4,
 "nbformat_minor": 5
}
